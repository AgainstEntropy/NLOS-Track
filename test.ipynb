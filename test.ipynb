{
 "cells": [
  {
   "cell_type": "markdown",
   "metadata": {
    "collapsed": false,
    "pycharm": {
     "name": "#%% md\n"
    }
   },
   "source": [
    "# Env preparation"
   ]
  },
  {
   "cell_type": "code",
   "execution_count": null,
   "metadata": {
    "collapsed": false,
    "pycharm": {
     "name": "#%%\n"
    }
   },
   "outputs": [],
   "source": [
    "import torch\n",
    "from torch.cuda.amp import autocast\n",
    "from torch.utils.data import DataLoader\n",
    "\n",
    "from data.dataset import split_dataset\n",
    "from utils.vis import *\n",
    "from utils.tools import load_model\n",
    "from utils.trainer import _set_seed\n",
    "\n",
    "%matplotlib inline\n",
    "plt.rcParams['figure.figsize'] = (10.0, 8.0)  # set default size of plots\n",
    "\n",
    "# life save magic code\n",
    "%load_ext autoreload\n",
    "%autoreload 2"
   ]
  },
  {
   "cell_type": "code",
   "execution_count": null,
   "metadata": {
    "collapsed": false,
    "pycharm": {
     "name": "#%%\n"
    }
   },
   "outputs": [],
   "source": [
    "print(f\"torch version: {torch.__version__}\")\n",
    "use_cuda = torch.cuda.is_available()\n",
    "if use_cuda:\n",
    "    GPU_nums = torch.cuda.device_count()\n",
    "    GPU = torch.cuda.get_device_properties(0)\n",
    "    print(f\"There are {GPU_nums} GPUs in total.\\nThe first GPU: {GPU}\")\n",
    "    print(f\"CUDA version: {torch.version.cuda}\")\n",
    "device = torch.device(f\"cuda:0\" if use_cuda else \"cpu\")\n",
    "print(f\"Using {device} now!\")"
   ]
  },
  {
   "cell_type": "markdown",
   "metadata": {
    "collapsed": false,
    "pycharm": {
     "name": "#%% md\n"
    }
   },
   "source": [
    "# Load Model & Data"
   ]
  },
  {
   "cell_type": "code",
   "execution_count": null,
   "metadata": {
    "collapsed": false,
    "pycharm": {
     "name": "#%%\n"
    }
   },
   "outputs": [],
   "source": [
    "# Fill your run name and log dir!\n",
    "run_name = None\n",
    "log_dir = None\n",
    "model = load_model(run_name, log_dir).to(device)"
   ]
  },
  {
   "cell_type": "code",
   "execution_count": null,
   "metadata": {
    "collapsed": false,
    "pycharm": {
     "name": "#%%\n"
    }
   },
   "outputs": [],
   "source": [
    "_set_seed(seed=0, deterministic=True)\n",
    "\n",
    "train_dataset, val_dataset = split_dataset(\n",
    "    dataset_root='', # Fill your dataset root!\n",
    "    train_ratio=0.8,\n",
    "    route_len=250,\n",
    "    total_len=250)\n",
    "\n",
    "loader_kwargs = {\n",
    "    'batch_size' : 6,\n",
    "    'num_workers': 4,\n",
    "    'pin_memory': True,\n",
    "    'prefetch_factor': 4,\n",
    "    'persistent_workers': True\n",
    "}\n",
    "train_loader = DataLoader(train_dataset, **loader_kwargs)\n",
    "iter_train_loader = iter(train_loader)\n",
    "val_loader = DataLoader(val_dataset, **loader_kwargs)\n",
    "iter_val_loader = iter(val_loader)"
   ]
  },
  {
   "cell_type": "markdown",
   "metadata": {
    "collapsed": false,
    "pycharm": {
     "name": "#%% md\n"
    }
   },
   "source": [
    "# Test & Plot!"
   ]
  },
  {
   "cell_type": "code",
   "execution_count": null,
   "metadata": {
    "collapsed": false,
    "pycharm": {
     "name": "#%%\n"
    }
   },
   "outputs": [],
   "source": [
    "frames, gt_routes, map_sizes = next(iter_val_loader)\n",
    "frames.shape, gt_routes.shape"
   ]
  },
  {
   "cell_type": "code",
   "execution_count": null,
   "metadata": {
    "collapsed": false,
    "pycharm": {
     "name": "#%%\n"
    }
   },
   "outputs": [],
   "source": [
    "with torch.no_grad():\n",
    "    with autocast():\n",
    "        pred_routes = model.vis_forward((frames, gt_routes))\n",
    "for idx, (gt, pred) in enumerate(zip(gt_routes.cpu().numpy(), pred_routes.cpu().numpy())):\n",
    "    draw_routes(routes=(gt, pred))"
   ]
  }
 ],
 "metadata": {
  "kernelspec": {
   "display_name": "Python 3",
   "language": "python",
   "name": "python3"
  },
  "language_info": {
   "codemirror_mode": {
    "name": "ipython",
    "version": 2
   },
   "file_extension": ".py",
   "mimetype": "text/x-python",
   "name": "python",
   "nbconvert_exporter": "python",
   "pygments_lexer": "ipython2",
   "version": "3.10.5"
  },
  "vscode": {
   "interpreter": {
    "hash": "c403d1b08469a8d62f54557221694b9cfa30e75251bf18eaeb4fcae6d3fe22e9"
   }
  }
 },
 "nbformat": 4,
 "nbformat_minor": 0
}
